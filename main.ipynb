{
  "nbformat": 4,
  "nbformat_minor": 0,
  "metadata": {
    "colab": {
      "name": "main.ipynb",
      "provenance": [],
      "authorship_tag": "ABX9TyOM/Kxa9Tdudw7UGmxmQvYX"
    },
    "kernelspec": {
      "name": "python3",
      "display_name": "Python 3"
    }
  },
  "cells": [
    {
      "cell_type": "code",
      "metadata": {
        "id": "O6K4Jmwv6wpg"
      },
      "source": [
        "import requests\n",
        "url = “https://data.gov.sg/api/action/datastore_search?resource_id=f9dbfc75-a2dc-42af-9f50-425e4107ae84&limit=5”\n",
        "result = requests.get(url).json()\n",
        "# Try out the following codes\n",
        "# Try to understand the result and figure out how is the data\n",
        "stored in json.\n",
        "print(result.keys())\n",
        "print(result['result’])\n",
        "### Todo\n",
        "# Print out the part where data is stored.\n"
      ],
      "execution_count": null,
      "outputs": []
    }
  ]
}