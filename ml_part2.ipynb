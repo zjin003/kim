{
  "nbformat": 4,
  "nbformat_minor": 0,
  "metadata": {
    "colab": {
      "name": "ml_part2.ipynb",
      "provenance": [],
      "authorship_tag": "ABX9TyOAdgSAS4DIfS2TpBaipQ96"
    },
    "kernelspec": {
      "name": "python3",
      "display_name": "Python 3"
    }
  },
  "cells": [
    {
      "cell_type": "code",
      "metadata": {
        "id": "FgdZACDp4wUv"
      },
      "source": [
        "import pandas as pd\n",
        "from sklearn.neural_network import MLPRegressor\n",
        "from sklearn import preprocessing\n",
        "from sklearn.model_selection import train_test_split\n",
        "from sklearn.ensemble import AdaBoostClassifier\n",
        "from sklearn.metrics import confusion_matrix, accuracy_score, classification_report\n",
        "df = pd.read_csv(\"churning.csv\")\n",
        "# we use only the first 2 variables as features\n",
        "# account length,number vmail messages\n",
        "x = df.iloc[:, [0, 1]]\n",
        "y = df.iloc[:,-1] # classification\n",
        "x_train, x_test, y_train, y_test = train_test_split(x, y, test_size=0.3, random_state=0)\n",
        "classifier = AdaBoostClassifier(n_estimators=10, learning_rate=0.8, random_state=0, algorithm='SAMME')\n",
        "classifier.fit(x, y)\n",
        "y_pred = classifier.predict(x_test)\n",
        "cm = confusion_matrix(y_test, y_pred)\n",
        "print(accuracy_score(y_test, y_pred))\n",
        "while True:\n",
        "var1 = float(input(\"Enter value for account length:\"))\n",
        "var2 = float(input(\"Enter value for number vmail messages:\"))\n",
        "pred = classifier.predict([[var1, var2]])\n",
        "print(pred)\n",
        "if pred == [1]:\n",
        "print(\"Yes, likely will churn.\")\n",
        "else:\n",
        "print(\"Unlikely will churn.\")\n",
        "cont = input(\"Do you want to continue? y/n\")\n",
        "if cont == \"n\":\n",
        "break"
      ],
      "execution_count": null,
      "outputs": []
    }
  ]
}