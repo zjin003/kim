{
  "nbformat": 4,
  "nbformat_minor": 0,
  "metadata": {
    "colab": {
      "name": "ml_part1.ipynb",
      "provenance": [],
      "authorship_tag": "ABX9TyMSncV8cJc+KuUjIWDH8um1"
    },
    "kernelspec": {
      "name": "python3",
      "display_name": "Python 3"
    }
  },
  "cells": [
    {
      "cell_type": "code",
      "metadata": {
        "id": "NAj_C9tX7B0x"
      },
      "source": [
        "import requests\n",
        "import pandas as pd\n",
        "\n",
        "url = 'https://data.gov.sg/api/action/datastore_search?resource_id=f9dbfc75-a2dc-42af-9f50-425e4107ae84&q=2019'\n",
        "\n",
        "result = requests.get(url).json()\n",
        "\n",
        "# Try out the following codes\n",
        "# Try to understand the result and figure out how is the data stored in json.\n",
        "print(result.keys())\n",
        "print(result['result'].keys())\n",
        "print(result['result']['records'])\n",
        "\n",
        "df = pd.DataFrame(result['result']['records'])\n",
        "print(df)\n",
        "print(df[df.level1 == 'Total Residuals'])"
      ],
      "execution_count": null,
      "outputs": []
    }
  ]
}